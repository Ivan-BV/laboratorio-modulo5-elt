{
 "cells": [
  {
   "cell_type": "markdown",
   "metadata": {},
   "source": [
    "<div style=\"text-align: center;\">\n",
    "  <img src=\"https://github.com/Hack-io-Data/Imagenes/blob/main/01-LogosHackio/logo_amarillo@4x.png?raw=true\" alt=\"esquema\" />\n",
    "</div>"
   ]
  },
  {
   "cell_type": "markdown",
   "metadata": {},
   "source": [
    "\n",
    "# Laboratorio ETL: Análisis del Sistema Energético en España\n",
    "\n",
    "## Objetivo\n",
    "\n",
    "Durante todos los laboratorios de esta semana realizarás un proceso completo de ETL para analizar la relación entre la demanda, el consumo y la generación eléctrica en diferentes provincias de España a lo largo de un año. Además, complementarán este análisis con datos demográficos y económicos extraídos del Instituto Nacional de Estadística (INE). El **objetivo principal** del análisis es **examinar cómo la demanda, el consumo y la generación eléctrica en diferentes provincias de España a lo largo de los años están influenciados por factores demográficos y económicos, como la población y el PIB provincial**. El análisis busca identificar patrones y correlaciones entre estas variables para comprender mejor las dinámicas energéticas regionales y su relación con el desarrollo socioeconómico en España.\n",
    "\n",
    "Antes de realizar el análisis, vamos a definir las hipótesis con las que vamos a trabajar, las cuales definirán todo tu análisis y planteamiento de los laboratorios: \n",
    "\n",
    "- **Hipótesis 1: La demanda eléctrica está correlacionada con la población de la provincia.** Provincias con mayor población tienden a tener una mayor demanda eléctrica.\n",
    "  \n",
    "- **Hipótesis 2: El crecimiento económico (medido por el PIB) está correlacionado con el consumo eléctrico.** Las provincias con un PIB más alto o en crecimiento experimentan un mayor consumo de energía.\n",
    "\n",
    "- **Hipótesis 3: La proporción de generación renovable está relacionada con factores económicos o geográficos.** Provincias con un mayor desarrollo económico o con condiciones geográficas favorables (como más horas de sol o viento) tienden a generar más energía renovable.\n",
    "\n",
    "\n",
    "## Tareas Laboratorio Carga\n",
    "\n",
    "En este laboratorio, tu objetivo será diseñar la estructura de una base de datos relacional, crear las tablas necesarias y cargar en ellas los datos limpios y preparados que obtuviste en el laboratorio anterior. Trabajarás con datos relacionados con la demanda, generación eléctrica, y variables socioeconómicas, almacenándolos de manera eficiente para facilitar el análisis y las consultas posteriores.\n",
    "\n",
    "\n",
    "- **Diseño de la Base de Datos:** Define una estructura de base de datos relacional que sea adecuada para almacenar los datos de demanda eléctrica, generación eléctrica, población y PIB por provincia.\n",
    "\n",
    "- **Creación de la Base de Datos:** Escribe los scripts SQL necesarios para crear las tablas definidas en la estructura de la base de datos. Asegúrate de definir correctamente los tipos de datos y las restricciones (e.g., `NOT NULL`, `UNIQUE`).\n",
    "\n",
    "- **Carga de Datos en la Base de Datos:** Utiliza Python para cargar los datos limpios y preparados en las tablas de la base de datos. Asegúrate de que los datos se insertan correctamente, manejando posibles errores o inconsistencias en los datos.\n"
   ]
  },
  {
   "cell_type": "code",
   "execution_count": null,
   "metadata": {},
   "outputs": [],
   "source": [
    "# imports\n",
    "# ----------------------------------------------------------\n",
    "import pandas as pd\n",
    "import psycopg2\n",
    "from src import soporte_carga as sc\n",
    "import dotenv\n",
    "dotenv.load_dotenv()\n",
    "import os"
   ]
  },
  {
   "cell_type": "markdown",
   "metadata": {},
   "source": [
    "# Diseño BBDD    "
   ]
  },
  {
   "cell_type": "markdown",
   "metadata": {},
   "source": [
    "Tabla: generacion_electrica\n",
    "\n",
    "- fecha: DATE Representa la fecha de generación eléctrica.\n",
    "- tipo_generacion: VARCHAR Describe el tipo de fuente de energía utilizada (e.g., solar, eólica).\n",
    "- energia_generada: FLOAT Cantidad de energía generada en unidades específicas (e.g., MW).\n",
    "\n",
    "\n",
    "Tabla: demanda_electrica\n",
    "\n",
    "- fecha: DATE Representa la fecha de la demanda eléctrica.\n",
    "- demanda: FLOAT Valor de la demanda eléctrica en unidades específicas (e.g., MW).\n",
    "\n",
    "\n",
    "Tabla: datos_economicos\n",
    "\n",
    "- region: VARCHAR Nombre de la región donde se están tomando los datos económicos.\n",
    "- year: INT Año al que corresponden los datos económicos.\n",
    "- pib: FLOAT Producto Interno Bruto (PIB) de la región para el año indicado.\n",
    "- tasa_paro: FLOAT Tasa de desempleo en la región para el año indicado.\n",
    "\n",
    "\n",
    "Tabla: datos_demograficos\n",
    "\n",
    "- region: VARCHAR Nombre de la región de los datos demográficos.\n",
    "- year: INT Año al que corresponden los datos demográficos.\n",
    "- poblacion: INT Población total de la región para el año indicado.\n",
    "- natalidad: FLOAT Tasa de natalidad en la región para el año indicado."
   ]
  },
  {
   "cell_type": "markdown",
   "metadata": {},
   "source": [
    "# Creación BBDD"
   ]
  },
  {
   "cell_type": "code",
   "execution_count": null,
   "metadata": {},
   "outputs": [],
   "source": [
    "try:\n",
    "    dbname = os.getenv(\"dbname\")\n",
    "    user = os.getenv(\"postgres\")\n",
    "    password = os.getenv(\"password\")\n",
    "    host = os.getenv(\"host\")\n",
    "    \n",
    "    connection = psycopg2.connect(\n",
    "        dbname=dbname,\n",
    "        user=user,\n",
    "        password=password,\n",
    "        host=host,\n",
    "    )\n",
    "\n",
    "    # Crear un cursor para ejecutar comandos SQL\n",
    "    cursor = connection.cursor()\n",
    "\n",
    "    # Definir la estructura de las tablas\n",
    "    query_create_generacion_electrica = \"\"\"\n",
    "    CREATE TABLE IF NOT EXISTS generacion_electrica (\n",
    "        id_registro_generacion SERIAL PRIMARY KEY,\n",
    "        fecha DATE,\n",
    "        tipo_generacion VARCHAR(200),\n",
    "        energia_generada DECIMAL\n",
    "    )\"\"\"\n",
    "    cursor.execute(query_create_generacion_electrica)\n",
    "\n",
    "    query_create_demanda_electrica = \"\"\"\n",
    "    CREATE TABLE IF NOT EXISTS demanda_electrica (\n",
    "        id_registro_demanda SERIAL PRIMARY KEY,\n",
    "        fecha DATE,\n",
    "        demanda DECIMAL\n",
    "    )\"\"\"\n",
    "    cursor.execute(query_create_demanda_electrica)\n",
    "\n",
    "    query_create_datos_economicos = \"\"\"\n",
    "    CREATE TABLE IF NOT EXISTS datos_economicos (\n",
    "        id_registro_economico SERIAL PRIMARY KEY,\n",
    "        region VARCHAR(200),\n",
    "        year INT,\n",
    "        pib DECIMAL,\n",
    "        tasa_paro DECIMAL\n",
    "    )\"\"\"\n",
    "    cursor.execute(query_create_datos_economicos)\n",
    "\n",
    "    query_create_datos_demograficos = \"\"\"\n",
    "    CREATE TABLE IF NOT EXISTS datos_demograficos (\n",
    "        id_registro_demografico SERIAL PRIMARY KEY,\n",
    "        region VARCHAR(200),\n",
    "        year INT,\n",
    "        poblacion INT,\n",
    "        natalidad DECIMAL\n",
    "    )\"\"\"\n",
    "    cursor.execute(query_create_datos_demograficos)\n",
    "    connection.commit()\n",
    "\n",
    "    # Cerrar la conexión y el cursor\n",
    "    cursor.close()\n",
    "    connection.close()\n",
    "except Exception as e:\n",
    "    print(\"Error al conectar a la base de datos:\", e)\n",
    "    raise\n",
    "\n",
    "# Crear un cursor para ejecutar comandos SQL\n",
    "cursor = connection.cursor()"
   ]
  },
  {
   "cell_type": "markdown",
   "metadata": {},
   "source": [
    "# Carga de datos"
   ]
  },
  {
   "cell_type": "code",
   "execution_count": null,
   "metadata": {},
   "outputs": [],
   "source": [
    "# Obtengo los parametros para la conexión a la bbdd\n",
    "dbname = os.getenv(\"dbname\")\n",
    "user = os.getenv(\"postgres\")\n",
    "password = os.getenv(\"password\")\n",
    "host = os.getenv(\"host\")\n",
    "\n",
    "# Me conecto a la bbdd\n",
    "connection = psycopg2.connect(\n",
    "    dbname=dbname,\n",
    "    user=user,\n",
    "    password=password,\n",
    "    host=host,\n",
    ")\n",
    "\n",
    "cursor = connection.cursor()\n",
    "\n",
    "# Cargo e inserto cada DataFrame en su tabla correspondiente\n",
    "df_generacion_electrica = pd.read_csv(\"datos/descargas/ree/generacion_electrica_final.csv\")\n",
    "sc.insertar_datos(cursor, df_generacion_electrica, \"generacion_electrica\")\n",
    "\n",
    "df_demanda_electrica = pd.read_csv(\"datos/descargas/ree/demanda_electrica_final.csv\")\n",
    "sc.insertar_datos(cursor, df_demanda_electrica, \"demanda_electrica\")\n",
    "\n",
    "df_datos_demograficos = pd.read_csv(\"datos/descargas/ine/datos_demograficos.csv\")\n",
    "sc.insertar_datos(cursor, df_datos_demograficos, \"datos_economicos\")\n",
    "\n",
    "df_datos_economicos = pd.read_csv(\"datos/descargas/ine/datos_economicos.csv\")\n",
    "sc.insertar_datos(cursor, df_datos_economicos, \"datos_demograficos\")\n",
    "\n",
    "cursor.close()\n",
    "connection.close()"
   ]
  }
 ],
 "metadata": {
  "kernelspec": {
   "display_name": "Python 3",
   "language": "python",
   "name": "python3"
  },
  "language_info": {
   "codemirror_mode": {
    "name": "ipython",
    "version": 3
   },
   "file_extension": ".py",
   "mimetype": "text/x-python",
   "name": "python",
   "nbconvert_exporter": "python",
   "pygments_lexer": "ipython3",
   "version": "3.12.6"
  }
 },
 "nbformat": 4,
 "nbformat_minor": 2
}
