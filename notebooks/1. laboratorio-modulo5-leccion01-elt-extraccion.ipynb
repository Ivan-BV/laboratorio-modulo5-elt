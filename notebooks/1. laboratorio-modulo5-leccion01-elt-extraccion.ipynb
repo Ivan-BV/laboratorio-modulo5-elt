{
 "cells": [
  {
   "cell_type": "markdown",
   "metadata": {},
   "source": [
    "\n",
    "<div style=\"text-align: center;\">\n",
    "  <img src=\"https://github.com/Hack-io-Data/Imagenes/blob/main/01-LogosHackio/logo_amarillo@4x.png?raw=true\" alt=\"esquema\" />\n",
    "</div>"
   ]
  },
  {
   "cell_type": "markdown",
   "metadata": {},
   "source": [
    "\n",
    "# Laboratorio ETL: Análisis del Sistema Energético en España\n",
    "\n",
    "## Objetivo\n",
    "\n",
    "Durante todos los laboratorios de esta semana realizarás un proceso completo de ETL para analizar la relación entre la demanda, el consumo y la generación eléctrica en diferentes provincias de España a lo largo de un año. Además, complementarán este análisis con datos demográficos y económicos extraídos del Instituto Nacional de Estadística (INE). El **objetivo principal** del análisis es **examinar cómo la demanda, el consumo y la generación eléctrica en diferentes provincias de España a lo largo de los años están influenciados por factores demográficos y económicos, como la población y el PIB provincial**. El análisis busca identificar patrones y correlaciones entre estas variables para comprender mejor las dinámicas energéticas regionales y su relación con el desarrollo socioeconómico en España.\n",
    "\n",
    "Antes de realizar el análisis, vamos a definir las hipótesis con las que vamos a trabajar, las cuales definirán todo tu análisis y planteamiento de los laboratorios: \n",
    "\n",
    "- **Hipótesis 1: La demanda eléctrica está correlacionada con la población de la provincia.** Provincias con mayor población tienden a tener una mayor demanda eléctrica.\n",
    "  \n",
    "- **Hipótesis 2: El crecimiento económico (medido por el PIB) está correlacionado con la demanda eléctrica.** Las provincias con un PIB más alto o en crecimiento experimentan una mayor demanda de energía.\n",
    "\n",
    "- **Hipótesis 3: La proporción de generación renovable está relacionada con factores económicos o geográficos.** Provincias con un mayor desarrollo económico o con condiciones geográficas favorables (como más horas de sol o viento) tienden a generar más energía renovable.\n",
    "\n",
    "\n",
    "## Tareas Laboratorio Extracción\n",
    "\n",
    "En el laboratorio de hoy tendrás que extraer la información necesaria para obtener tu objetivo de las siguientes fuentes de datos (deberás usar API's y herramientas de *web scrapping*):\n",
    "\n",
    "- **Datos de la API de Red Eléctrica Española (REE):** Deberás extraer datos mensuales a nivel provincial de los siguientes aspectos:\n",
    "\n",
    "  - **Demanda Eléctrica:** Nos proporciona los datos de demanda eléctrica a nivel provincial, agregados de manera mensual. Tendrás que usar el endpoint de \"https://apidatos.ree.es/es/datos/demanda/evolucion\", añadiendo los parámetros que sean necesarios. \n",
    "\n",
    "  - **Generación Eléctrica:** Nos proporciona los datos de generación eléctrica a nivel provincial, diferenciando entre fuentes de energía (eólica, solar, hidroeléctrica, etc.), agregados de manera mensual. Tendrás que usar el endpoint de \"https://apidatos.ree.es/es/datos/generacion/estructura-renovables\", añadiendo los parámetros que sean necesarios.\n",
    "\n",
    "  La documentación de la API la encontrarás en [este link](https://www.ree.es/es/apidatos). Recuerda leer en detenimiento la documentación. \n",
    "\n",
    "- **Datos del Instituto Nacional de Estadística (INE):** Además de los datos de la REE, debes extraer y utilizar datos socioeconómicos de las siguientes páginas del INE:\n",
    "\n",
    "- **Datos Demográficos:** Extraer los datos de población por provincias, diferenciando por grupos de edad, sexo, y extrajeros. Estos datos serán utilizados para analizar cómo la población afecta a la demanda eléctrica en cada provincia.\n",
    "\n",
    "  - **Página web:** [INE - Población por provincias](https://www.ine.es/dyngs/INEbase/es/operacion.htm?c=Estadistica_C&cid=1254736177012&menu=resultados&idp=1254734710990)\n",
    "\n",
    "  - \"Principales series 1998-2022\" --> \"Por provincia\" --> \" Población por provincias, edad (3 grupos de edad), españoles/Extranjeros, Sexo y año\"\n",
    "\n",
    "- **Datos Económicos:**\n",
    "\n",
    "  - **Página web:** [INE - PIB por provincias](https://www.ine.es/dynt3/inebase/es/index.htm?padre=10426&capsel=10429). \n",
    "\n",
    "  - **Pasos para la extracción**:\" Resultados provinciales. Serie contable 2016-2021\" --> \"P.I.B. a precios de mercado y valor añadido bruto a precios básicos por ramas de actividad: Precios corrientes por provincias y periodo.\"\n",
    "\n",
    "\n",
    "\n",
    "NOTA1: Tienes que sacar muchos datos, pero recuerda que hemos aprendido herramientas de asincronia que te pueden ayudar en este paso de la ETL. \n",
    "\n",
    "NOTA2: Todos estos datos los debes sacar para los años 2019-2020-2021"
   ]
  },
  {
   "cell_type": "code",
   "execution_count": null,
   "metadata": {},
   "outputs": [],
   "source": [
    "# Imports api\n",
    "# ----------------------------------------------------------\n",
    "import requests\n",
    "import pandas as pd\n",
    "import os\n",
    "from tqdm import tqdm\n",
    "from src import soporte_extraccion as se\n",
    "import dotenv\n",
    "dotenv.load_dotenv()\n",
    "\n",
    "# Imports web scraping\n",
    "# ----------------------------------------------------------\n",
    "from selenium.webdriver.support.ui import WebDriverWait\n",
    "from selenium.webdriver.common.by import By\n",
    "from selenium.webdriver.support import expected_conditions as EC\n",
    "from time import sleep\n",
    "from selenium import webdriver\n",
    "import os\n",
    "import re\n",
    "import zipfile\n",
    "import shutil"
   ]
  },
  {
   "cell_type": "markdown",
   "metadata": {},
   "source": [
    "# Extracción de datos de la API de la REE"
   ]
  },
  {
   "cell_type": "markdown",
   "metadata": {},
   "source": [
    "### REE - Demanda electrica"
   ]
  },
  {
   "cell_type": "code",
   "execution_count": null,
   "metadata": {},
   "outputs": [],
   "source": [
    "\n",
    "host = os.getenv(\"host_ree\")\n",
    "headers={\"Accept\": \"application/json\",\n",
    "\"Content-Type\": \"application/json\",\n",
    "\"Host\": host}\n",
    "\n",
    "# Creamos la carpeta destino en caso de no estar creada\n",
    "ruta_ree_demanda = os.getenv(\"ruta_ree_demanda\").format()\n",
    "os.makedirs(ruta_ree_demanda, exist_ok=True)\n",
    "\n",
    "anios = [\"2019\", \"2020\", \"2021\"]\n",
    "se.extraer_datos_ree_demanda(ruta_ree_demanda, headers, anios)"
   ]
  },
  {
   "cell_type": "markdown",
   "metadata": {},
   "source": [
    "### REE - Generación electrica"
   ]
  },
  {
   "cell_type": "code",
   "execution_count": null,
   "metadata": {},
   "outputs": [],
   "source": [
    "host = os.getenv(\"host_ree\")\n",
    "headers={\"Accept\": \"application/json\",\n",
    "\"Content-Type\": \"application/json\",\n",
    "\"Host\": host}\n",
    "\n",
    "# Creamos la carpeta destino en caso de no estar creada\n",
    "ruta_ree_generacion = os.getenv(\"ruta_ree_generacion\").format()\n",
    "os.makedirs(ruta_ree_generacion, exist_ok=True)\n",
    "\n",
    "anios = [\"2019\", \"2020\", \"2021\"]\n",
    "se.extraer_datos_ree_generacion(ruta_ree_generacion, headers, anios)"
   ]
  },
  {
   "cell_type": "markdown",
   "metadata": {},
   "source": [
    "# Extracción de datos con Web Scraping del INE"
   ]
  },
  {
   "cell_type": "markdown",
   "metadata": {},
   "source": [
    "### INE - Datos demográficos"
   ]
  },
  {
   "cell_type": "code",
   "execution_count": null,
   "metadata": {},
   "outputs": [],
   "source": [
    "url_demograficos = os.getenv(\"url_ine_demograficos\")\n",
    "\n",
    "ruta_ine_demograficos = os.getenv(\"ruta_ine_demograficos\").format()\n",
    "\n",
    "prefs = {\n",
    "    \"download.default_directory\": ruta_ine_demograficos,\n",
    "    \"download.prompt_for_download\": False,\n",
    "    \"directory_upgrade\": True,\n",
    "}\n",
    "\n",
    "chrome_options = webdriver.ChromeOptions()\n",
    "chrome_options.add_experimental_option(\"prefs\", prefs)\n",
    "\n",
    "se.extraer_datos_ine_demograficos(url_demograficos, chrome_options)"
   ]
  },
  {
   "cell_type": "markdown",
   "metadata": {},
   "source": [
    "### INE - Datos económicos"
   ]
  },
  {
   "cell_type": "code",
   "execution_count": null,
   "metadata": {},
   "outputs": [],
   "source": [
    "url_economicos = os.getenv(\"url_ine_economicos\")\n",
    "\n",
    "ruta_ine_economicos = os.getenv(\"ruta_ine_economicos\").format()\n",
    "\n",
    "prefs = {\n",
    "    \"download.default_directory\": ruta_ine_economicos,\n",
    "    \"download.prompt_for_download\": False,\n",
    "    \"directory_upgrade\": True,\n",
    "}\n",
    "\n",
    "chrome_options = webdriver.ChromeOptions()\n",
    "chrome_options.add_experimental_option(\"prefs\", prefs)\n",
    "\n",
    "se.extraer_datos_ine_economicos(url_economicos, chrome_options)"
   ]
  }
 ],
 "metadata": {
  "kernelspec": {
   "display_name": "Python 3",
   "language": "python",
   "name": "python3"
  },
  "language_info": {
   "codemirror_mode": {
    "name": "ipython",
    "version": 3
   },
   "file_extension": ".py",
   "mimetype": "text/x-python",
   "name": "python",
   "nbconvert_exporter": "python",
   "pygments_lexer": "ipython3",
   "version": "3.12.6"
  }
 },
 "nbformat": 4,
 "nbformat_minor": 2
}
