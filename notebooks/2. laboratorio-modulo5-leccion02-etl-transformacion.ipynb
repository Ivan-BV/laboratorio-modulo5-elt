{
 "cells": [
  {
   "cell_type": "markdown",
   "metadata": {},
   "source": [
    "<div style=\"text-align: center;\">\n",
    "  <img src=\"https://github.com/Hack-io-Data/Imagenes/blob/main/01-LogosHackio/logo_amarillo@4x.png?raw=true\" alt=\"esquema\" />\n",
    "</div>"
   ]
  },
  {
   "cell_type": "markdown",
   "metadata": {},
   "source": [
    "\n",
    "# Laboratorio ETL: Análisis del Sistema Energético en España\n",
    "\n",
    "## Objetivo\n",
    "\n",
    "Durante todos los laboratorios de esta semana realizarás un proceso completo de ETL para analizar la relación entre la demanda, el consumo y la generación eléctrica en diferentes provincias de España a lo largo de un año. Además, complementarán este análisis con datos demográficos y económicos extraídos del Instituto Nacional de Estadística (INE). El **objetivo principal** del análisis es **examinar cómo la demanda, el consumo y la generación eléctrica en diferentes provincias de España a lo largo de los años están influenciados por factores demográficos y económicos, como la población y el PIB provincial**. El análisis busca identificar patrones y correlaciones entre estas variables para comprender mejor las dinámicas energéticas regionales y su relación con el desarrollo socioeconómico en España.\n",
    "\n",
    "Antes de realizar el análisis, vamos a definir las hipótesis con las que vamos a trabajar, las cuales definirán todo tu análisis y planteamiento de los laboratorios: \n",
    "\n",
    "- **Hipótesis 1: La demanda eléctrica está correlacionada con la población de la provincia.** Provincias con mayor población tienden a tener una mayor demanda eléctrica.\n",
    "  \n",
    "- **Hipótesis 2: El crecimiento económico (medido por el PIB) está correlacionado con el consumo eléctrico.** Las provincias con un PIB más alto o en crecimiento experimentan un mayor consumo de energía.\n",
    "\n",
    "- **Hipótesis 3: La proporción de generación renovable está relacionada con factores económicos o geográficos.** Provincias con un mayor desarrollo económico o con condiciones geográficas favorables (como más horas de sol o viento) tienden a generar más energía renovable.\n",
    "\n",
    "\n",
    "## Tareas Laboratorio Transformación\n",
    "\n",
    "En este laboratorio, tu objetivo será limpiar y preparar los datos extraídos previamente de diferentes fuentes para su posterior análisis. Trabajarás con datos provenientes de la API de Red Eléctrica Española (REE) y del Instituto Nacional de Estadística (INE). Estos datos incluyen información sobre demanda y generación eléctrica a nivel provincial, así como datos demográficos y económicos. \n",
    "\n",
    "\n",
    "- Cargar los Datos Extraídos:\n",
    "\n",
    "  - **Demanda Eléctrica:** Carga los datos de demanda eléctrica extraídos de la API de REE.\n",
    "\n",
    "  - **Generación Eléctrica:** Carga los datos de generación eléctrica diferenciados por tipo de energía (eólica, solar, hidroeléctrica, etc.) a nivel provincial.\n",
    "\n",
    "  - **Datos Demográficos:** Carga los datos demográficos por provincia extraídos de la web del INE.\n",
    "\n",
    "  - **Datos Económicos:** Carga los datos del PIB por provincia obtenidos del INE.\n",
    "\n",
    "\n",
    "-Limpieza de Datos:\n",
    "\n",
    "- Datos de la API de REE:\n",
    "\n",
    "  - **Demanda Eléctrica:**\n",
    "\n",
    "    - **Conversión de Timestamps:** Asegúrate de que las fechas estén correctamente formateadas en `datetime`. Si es necesario, convierte los datos a un formato uniforme (por ejemplo, `YYYY-MM` para datos mensuales).\n",
    "\n",
    "    - **Tratamiento de Valores Nulos:** Identifica y maneja los valores nulos en caso de que los haya. Puedes optar por eliminar filas con valores faltantes.\n",
    "\n",
    "    - **Estandarización de Nombres de Provincias:** Verifica que los nombres de las provincias estén estandarizados y coincidan en todos los conjuntos de datos. Si hay inconsistencias, corrígelas.\n",
    "\n",
    "  - **Generación Eléctrica:**\n",
    "\n",
    "    - **Desagregación de Tecnologías:** Asegúrate de que los datos estén correctamente desglosados por tipo de energía. Revisa que los campos correspondientes a energía eólica, solar, hidroeléctrica, etc., estén bien identificados y sin errores.\n",
    "\n",
    "    - **Normalización de Unidades:** Verifica que las unidades de energía estén estandarizadas (por ejemplo, MWh). Realiza las conversiones necesarias si se encuentran en otras unidades.\n",
    "\n",
    "    - **Identificación de Outliers:** Revisa los valores extremos o atípicos en la generación de energía y decide si deben ser tratados o eliminados.\n",
    "\n",
    "- Datos del INE:\n",
    "\n",
    "  - **Datos Demográficos:**\n",
    "\n",
    "    - **Consistencia en la Codificación de Provincias:** Asegúrate de que los nombres de las provincias en los datos demográficos coincidan con los nombres utilizados en los datos eléctricos.\n",
    "\n",
    "    - **Revisión de Categorías:** Verifica que las categorías de edad, sexo, y nacionalidad estén correctamente etiquetadas y sean consistentes en todo el dataset.\n",
    "\n",
    "    - **Manejo de Valores Faltantes:** Revisa la presencia de valores faltantes y decide cómo tratarlos (relleno, eliminación o sustitución).\n",
    "\n",
    "  - **Datos Económicos:**\n",
    "\n",
    "    - **Normalización del PIB:** Si los datos del PIB están en diferentes unidades o escalas, asegúrate de normalizarlos para que sean comparables entre provincias.\n",
    "\n",
    "    - **Agrupación Temporal:** Si los datos económicos están disponibles en diferentes periodos temporales, agrúpalos y normalízalos para que coincidan con los datos eléctricos en términos de granularidad temporal (mensual o anual).\n",
    "\n",
    "NOTA: Ten en cuenta que los datos los vamos a tener que insertar en una base de datos mañana, por lo que toda esta limpieza os recomendamos que la penséis para poder crear e insertar los datos mañana. "
   ]
  },
  {
   "cell_type": "code",
   "execution_count": null,
   "metadata": {},
   "outputs": [],
   "source": [
    "# Imports\n",
    "# ----------------------------------------------------------\n",
    "import os\n",
    "import sys\n",
    "sys.path.append(\"../\")\n",
    "from src import soporte_limpieza as sl\n",
    "import pandas as pd\n",
    "import numpy as np\n",
    "import dotenv\n",
    "dotenv.load_dotenv()"
   ]
  },
  {
   "cell_type": "markdown",
   "metadata": {},
   "source": [
    "# Carga de datos"
   ]
  },
  {
   "cell_type": "markdown",
   "metadata": {},
   "source": [
    "### REE - Demanda electrica"
   ]
  },
  {
   "cell_type": "code",
   "execution_count": null,
   "metadata": {},
   "outputs": [
    {
     "data": {
      "text/html": [
       "<div>\n",
       "<style scoped>\n",
       "    .dataframe tbody tr th:only-of-type {\n",
       "        vertical-align: middle;\n",
       "    }\n",
       "\n",
       "    .dataframe tbody tr th {\n",
       "        vertical-align: top;\n",
       "    }\n",
       "\n",
       "    .dataframe thead th {\n",
       "        text-align: right;\n",
       "    }\n",
       "</style>\n",
       "<table border=\"1\" class=\"dataframe\">\n",
       "  <thead>\n",
       "    <tr style=\"text-align: right;\">\n",
       "      <th></th>\n",
       "      <th>provincia</th>\n",
       "      <th>año</th>\n",
       "      <th>value</th>\n",
       "      <th>percentage</th>\n",
       "      <th>datetime</th>\n",
       "      <th>COD-CCAA</th>\n",
       "    </tr>\n",
       "  </thead>\n",
       "  <tbody>\n",
       "    <tr>\n",
       "      <th>0</th>\n",
       "      <td>Andalucía</td>\n",
       "      <td>2019</td>\n",
       "      <td>3668893.328</td>\n",
       "      <td>1</td>\n",
       "      <td>2019-01-01T00:00:00.000+01:00</td>\n",
       "      <td>4</td>\n",
       "    </tr>\n",
       "    <tr>\n",
       "      <th>1</th>\n",
       "      <td>Andalucía</td>\n",
       "      <td>2019</td>\n",
       "      <td>3152278.091</td>\n",
       "      <td>1</td>\n",
       "      <td>2019-02-01T00:00:00.000+01:00</td>\n",
       "      <td>4</td>\n",
       "    </tr>\n",
       "    <tr>\n",
       "      <th>2</th>\n",
       "      <td>Andalucía</td>\n",
       "      <td>2019</td>\n",
       "      <td>3216356.360</td>\n",
       "      <td>1</td>\n",
       "      <td>2019-03-01T00:00:00.000+01:00</td>\n",
       "      <td>4</td>\n",
       "    </tr>\n",
       "    <tr>\n",
       "      <th>3</th>\n",
       "      <td>Andalucía</td>\n",
       "      <td>2019</td>\n",
       "      <td>3029639.973</td>\n",
       "      <td>1</td>\n",
       "      <td>2019-04-01T00:00:00.000+02:00</td>\n",
       "      <td>4</td>\n",
       "    </tr>\n",
       "    <tr>\n",
       "      <th>4</th>\n",
       "      <td>Andalucía</td>\n",
       "      <td>2019</td>\n",
       "      <td>3154123.467</td>\n",
       "      <td>1</td>\n",
       "      <td>2019-05-01T00:00:00.000+02:00</td>\n",
       "      <td>4</td>\n",
       "    </tr>\n",
       "    <tr>\n",
       "      <th>...</th>\n",
       "      <td>...</td>\n",
       "      <td>...</td>\n",
       "      <td>...</td>\n",
       "      <td>...</td>\n",
       "      <td>...</td>\n",
       "      <td>...</td>\n",
       "    </tr>\n",
       "    <tr>\n",
       "      <th>679</th>\n",
       "      <td>Región de Murcia</td>\n",
       "      <td>2021</td>\n",
       "      <td>901082.855</td>\n",
       "      <td>1</td>\n",
       "      <td>2021-08-01T00:00:00.000+02:00</td>\n",
       "      <td>21</td>\n",
       "    </tr>\n",
       "    <tr>\n",
       "      <th>680</th>\n",
       "      <td>Región de Murcia</td>\n",
       "      <td>2021</td>\n",
       "      <td>793300.950</td>\n",
       "      <td>1</td>\n",
       "      <td>2021-09-01T00:00:00.000+02:00</td>\n",
       "      <td>21</td>\n",
       "    </tr>\n",
       "    <tr>\n",
       "      <th>681</th>\n",
       "      <td>Región de Murcia</td>\n",
       "      <td>2021</td>\n",
       "      <td>707168.960</td>\n",
       "      <td>1</td>\n",
       "      <td>2021-10-01T00:00:00.000+02:00</td>\n",
       "      <td>21</td>\n",
       "    </tr>\n",
       "    <tr>\n",
       "      <th>682</th>\n",
       "      <td>Región de Murcia</td>\n",
       "      <td>2021</td>\n",
       "      <td>723781.406</td>\n",
       "      <td>1</td>\n",
       "      <td>2021-11-01T00:00:00.000+01:00</td>\n",
       "      <td>21</td>\n",
       "    </tr>\n",
       "    <tr>\n",
       "      <th>683</th>\n",
       "      <td>Región de Murcia</td>\n",
       "      <td>2021</td>\n",
       "      <td>781601.118</td>\n",
       "      <td>1</td>\n",
       "      <td>2021-12-01T00:00:00.000+01:00</td>\n",
       "      <td>21</td>\n",
       "    </tr>\n",
       "  </tbody>\n",
       "</table>\n",
       "<p>684 rows × 6 columns</p>\n",
       "</div>"
      ],
      "text/plain": [
       "            provincia   año        value  percentage  \\\n",
       "0           Andalucía  2019  3668893.328           1   \n",
       "1           Andalucía  2019  3152278.091           1   \n",
       "2           Andalucía  2019  3216356.360           1   \n",
       "3           Andalucía  2019  3029639.973           1   \n",
       "4           Andalucía  2019  3154123.467           1   \n",
       "..                ...   ...          ...         ...   \n",
       "679  Región de Murcia  2021   901082.855           1   \n",
       "680  Región de Murcia  2021   793300.950           1   \n",
       "681  Región de Murcia  2021   707168.960           1   \n",
       "682  Región de Murcia  2021   723781.406           1   \n",
       "683  Región de Murcia  2021   781601.118           1   \n",
       "\n",
       "                          datetime  COD-CCAA  \n",
       "0    2019-01-01T00:00:00.000+01:00         4  \n",
       "1    2019-02-01T00:00:00.000+01:00         4  \n",
       "2    2019-03-01T00:00:00.000+01:00         4  \n",
       "3    2019-04-01T00:00:00.000+02:00         4  \n",
       "4    2019-05-01T00:00:00.000+02:00         4  \n",
       "..                             ...       ...  \n",
       "679  2021-08-01T00:00:00.000+02:00        21  \n",
       "680  2021-09-01T00:00:00.000+02:00        21  \n",
       "681  2021-10-01T00:00:00.000+02:00        21  \n",
       "682  2021-11-01T00:00:00.000+01:00        21  \n",
       "683  2021-12-01T00:00:00.000+01:00        21  \n",
       "\n",
       "[684 rows x 6 columns]"
      ]
     },
     "execution_count": 2,
     "metadata": {},
     "output_type": "execute_result"
    }
   ],
   "source": [
    "ruta_ree_demanda = os.getenv(\"ruta_ree_demanda\")\n",
    "\n",
    "df_demanda_electrica = sl.formatear_datos_ree(ruta_ree_demanda)\n",
    "df_demanda_electrica.to_csv(\"datos/descargas/ree/demanda_electrica_final.csv\")\n",
    "df_demanda_electrica"
   ]
  },
  {
   "cell_type": "markdown",
   "metadata": {},
   "source": [
    "### REE - Generación electrica"
   ]
  },
  {
   "cell_type": "code",
   "execution_count": null,
   "metadata": {},
   "outputs": [],
   "source": [
    "ruta_ree_generacion = os.getenv(\"ruta_ree_generacion\").format()\n",
    "\n",
    "df_generacion_electrica = sl.formatear_datos_ree(ruta_ree_generacion)\n",
    "df_generacion_electrica.to_csv(\"datos/descargas/ree/generacion_electrica_final.csv\")"
   ]
  },
  {
   "cell_type": "markdown",
   "metadata": {},
   "source": [
    "### INE - Datos demograficos"
   ]
  },
  {
   "cell_type": "code",
   "execution_count": null,
   "metadata": {},
   "outputs": [],
   "source": [
    "ruta = os.getenv(\"ruta_ine_demograficos\").format()\n",
    "\n",
    "try:\n",
    "    # Muevo de ubicacion el csv\n",
    "    if len(os.listdir(ruta)) > 0:\n",
    "        archivo = os.listdir(ruta)[0]\n",
    "        ruta_archivo = os.path.join(ruta, archivo)\n",
    "        ruta = ruta.replace(f\"\\\\datos_demograficos\", \"\")\n",
    "        os.rename(ruta_archivo, f\"{ruta}\\\\datos_demograficos.csv\")\n",
    "        ruta_original = os.getenv(\"ruta_ine_demograficos\").format()\n",
    "        os.removedirs(ruta_original)\n",
    "except FileNotFoundError:\n",
    "    print(\"No se ha encontrado el archivo\")\n",
    "    ruta_archivo = \"datos/descargas/ine/datos_demograficos.csv\"\n",
    "    df_datos_demograficos = pd.read_csv(ruta_archivo, encoding=\"latin-1\")"
   ]
  },
  {
   "cell_type": "code",
   "execution_count": null,
   "metadata": {},
   "outputs": [],
   "source": [
    "df_datos_demograficos = pd.read_csv(\"datos/descargas/ine/datos_demograficos.csv\", encoding=\"latin-1\", on_bad_lines=\"skip\")\n",
    "df_datos_demograficos"
   ]
  },
  {
   "cell_type": "markdown",
   "metadata": {},
   "source": [
    "### INE - Datos economicos"
   ]
  },
  {
   "cell_type": "code",
   "execution_count": null,
   "metadata": {},
   "outputs": [],
   "source": [
    "ruta = os.getenv(\"ruta_ine_economicos\").format()\n",
    "\n",
    "# Muevo de ubicacion el csv\n",
    "if len(os.listdir(ruta)) > 0:\n",
    "    archivo = os.listdir(ruta)[0]\n",
    "    ruta_archivo = os.path.join(ruta, archivo)\n",
    "    ruta = ruta.replace(\"\\\\datos_economicos\", \"\")\n",
    "    os.rename(ruta_archivo, f\"{ruta}\\\\datos_economicos.csv\")\n",
    "    ruta_original = os.getenv(\"ruta_ine_economicos\").format()\n",
    "    os.removedirs(ruta_original)"
   ]
  },
  {
   "cell_type": "code",
   "execution_count": null,
   "metadata": {},
   "outputs": [],
   "source": [
    "df_datos_economicos = pd.read_csv(\"datos/descargas/ine/datos_economicos.csv\", encoding=\"latin-1\", on_bad_lines=\"skip\")\n",
    "df_datos_economicos"
   ]
  },
  {
   "cell_type": "markdown",
   "metadata": {},
   "source": [
    "# Limpieza de datos"
   ]
  },
  {
   "cell_type": "markdown",
   "metadata": {},
   "source": [
    "### REE - Demanda electrica"
   ]
  },
  {
   "cell_type": "code",
   "execution_count": null,
   "metadata": {},
   "outputs": [],
   "source": [
    "df_demanda_electrica = pd.read_csv(\"datos/descargas/ree/demanda_electrica_final.csv\", index_col=0, parse_dates=[\"datetime\"])\n",
    "\n",
    "df_demanda_electrica = sl.estandarizar_provincias(df_demanda_electrica, \"provincia\")\n",
    "\n",
    "df_demanda_electrica[\"datetime\"] = pd.to_datetime(df_demanda_electrica[\"datetime\"], utc=True)\n",
    "\n",
    "# Formateo la fecha en formato 'YYYY-MM'\n",
    "df_demanda_electrica[\"datetime\"] = df_demanda_electrica[\"datetime\"].dt.strftime(\"%Y-%m\")\n",
    "df_demanda_electrica.isnull().sum()\n",
    "\n",
    "df_demanda_electrica = sl.estandarizar_provincias(df_demanda_electrica, \"provincia\")"
   ]
  },
  {
   "cell_type": "markdown",
   "metadata": {},
   "source": [
    "### REE - Generación electrica"
   ]
  },
  {
   "cell_type": "code",
   "execution_count": null,
   "metadata": {},
   "outputs": [],
   "source": [
    "df_generacion_electrica = pd.read_csv(\"datos/descargas/ree/generacion_electrica_final.csv\", index_col=0, parse_dates=[\"datetime\"])\n",
    "\n",
    "df_demanda_electrica = sl.estandarizar_provincias(df_generacion_electrica, \"provincia\")\n",
    "\n",
    "df_generacion_electrica[\"datetime\"] = pd.to_datetime(df_generacion_electrica[\"datetime\"], utc=True)\n",
    "\n",
    "# Formateo la fecha en formato 'YYYY-MM'\n",
    "df_generacion_electrica[\"datetime\"] = df_generacion_electrica[\"datetime\"].dt.strftime(\"%Y-%m\")\n",
    "df_generacion_electrica.isnull().sum()\n",
    "\n",
    "# Normalizamos los datos\n",
    "energia_columns = [\"eolica\", \"solar\", \"hidroelectrica\"]\n",
    "for col in energia_columns:\n",
    "    if col not in df_generacion_electrica.columns:\n",
    "        df_generacion_electrica[col] = np.nan\n",
    "\n",
    "conversion_factor = {\"GWh\": 1000, \"KWh\": 0.001}\n",
    "for unidad, factor in conversion_factor.items():\n",
    "    mask = df_generacion_electrica[\"unidad\"] == unidad\n",
    "    df_generacion_electrica.loc[mask, energia_columns] *= factor\n",
    "    df_generacion_electrica.loc[mask, \"unidad\"] = \"MWh\"\n",
    "\n",
    "for col in energia_columns:\n",
    "    q1, q3 = df_generacion_electrica[col].quantile([0.25, 0.75])\n",
    "    iqr = q3 - q1\n",
    "    lower_bound = q1 - 1.5 * iqr\n",
    "    upper_bound = q3 + 1.5 * iqr\n",
    "    df_generacion_electrica = df_generacion_electrica[(df_generacion_electrica[col] >= lower_bound) & (df_generacion_electrica[col] <= upper_bound)]\n",
    "\n",
    "df_generacion_electrica = sl.estandarizar_provincias(df_generacion_electrica, \"provincia\")\n"
   ]
  },
  {
   "cell_type": "markdown",
   "metadata": {},
   "source": [
    "### INE - Datos demograficos"
   ]
  },
  {
   "cell_type": "code",
   "execution_count": null,
   "metadata": {},
   "outputs": [],
   "source": [
    "df_datos_demograficos = pd.read_csv(\"datos/descargas/ine/datos_demograficos.csv\", encoding=\"latin-1\", on_bad_lines=\"skip\", sep=\";\")\n",
    "\n",
    "df_datos_demograficos[\"Provincias\"] = df_datos_demograficos[\"Provincias\"].str.split(\" \")\n",
    "df_datos_demograficos[\"Provincias\"] = df_datos_demograficos[\"Provincias\"].apply(lambda x: x[1])\n",
    "df_demanda_electrica = sl.estandarizar_provincias(df_generacion_electrica, \"Provincias\")\n",
    "df_datos_demograficos.isnull().sum()\n",
    "df_datos_demograficos\n",
    "\n",
    "# Estandarizamos las columnas\n",
    "df_datos_demograficos = sl.estandarizar_provincias(df_datos_demograficos, \"provincia\")\n",
    "\n",
    "if \"edad\" in df_datos_demograficos.columns:\n",
    "    df_datos_demograficos[\"edad\"] = pd.to_numeric(df_datos_demograficos[\"edad\"], errors=\"coerce\")\n",
    "\n",
    "df_datos_demograficos.fillna(method=\"ffill\", inplace=True)"
   ]
  },
  {
   "cell_type": "markdown",
   "metadata": {},
   "source": [
    "### INE - Datos economicos"
   ]
  },
  {
   "cell_type": "code",
   "execution_count": null,
   "metadata": {},
   "outputs": [],
   "source": [
    "df_datos_economicos = pd.read_csv(\"datos/descargas/ine/datos_economicos.csv\", encoding=\"latin-1\", on_bad_lines=\"skip\", sep=\";\")\n",
    "\n",
    "df_datos_economicos[\"Provincias\"] = df_datos_economicos[\"Provincias\"].str.split(\" \")\n",
    "df_datos_economicos[\"Provincias\"] = df_datos_economicos[\"Provincias\"].apply(lambda x: x[1])\n",
    "df_datos_economicos[\"periodo\"] = df_datos_economicos[\"periodo\"].str.replace(\"(P)\", \"\")\n",
    "df_demanda_electrica = sl.estandarizar_provincias(df_generacion_electrica, \"Provincias\")\n",
    "df_datos_economicos.isnull().sum()\n",
    "df_datos_economicos\n",
    "\n",
    "# Normalizamos datos\n",
    "if df_datos_economicos[\"PIB\"].max() > 1000000:\n",
    "    df_datos_economicos[\"PIB\"] = df_datos_economicos[\"PIB\"] / 1000000\n",
    "\n",
    "df_datos_economicos[\"año\"] = pd.to_datetime(df_datos_economicos[\"año\"], format=\"%Y\").dt.year\n",
    "datos_economicos = df_datos_economicos.groupby([\"provincia\", \"año\"]).agg({\"PIB\": \"sum\"}).reset_index()\n",
    "datos_economicos = sl.estandarizar_provincias(datos_economicos, \"provincia\")"
   ]
  }
 ],
 "metadata": {
  "kernelspec": {
   "display_name": "Python 3",
   "language": "python",
   "name": "python3"
  },
  "language_info": {
   "codemirror_mode": {
    "name": "ipython",
    "version": 3
   },
   "file_extension": ".py",
   "mimetype": "text/x-python",
   "name": "python",
   "nbconvert_exporter": "python",
   "pygments_lexer": "ipython3",
   "version": "3.12.6"
  }
 },
 "nbformat": 4,
 "nbformat_minor": 2
}
